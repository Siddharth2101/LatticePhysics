{
 "cells": [
  {
   "cell_type": "code",
   "execution_count": 1,
   "id": "baaedb8e-0264-4879-baf3-b5dd8358186f",
   "metadata": {},
   "outputs": [],
   "source": [
    "import pandas as pd\n",
    "import numpy as np\n",
    "import optuna\n",
    "import tensorflow as tf\n",
    "from tensorflow.keras import Sequential\n",
    "from tensorflow.keras.layers import Dense, Dropout\n",
    "from sklearn.metrics import mean_absolute_error, mean_squared_error, r2_score, explained_variance_score\n",
    "import matplotlib.pyplot as plt\n",
    "\n"
   ]
  },
  {
   "cell_type": "code",
   "execution_count": 2,
   "id": "73eed7d7-6178-40d1-b501-ae063150f52f",
   "metadata": {},
   "outputs": [],
   "source": [
    "raw = pd.read_csv(\"Data Set/raw.csv\")\n",
    "test = pd.read_csv(\"Data Set/test.csv\")\n",
    "x = raw.iloc[:, 2:41]\n",
    "x_train = x[:22000]\n",
    "x_val = x[22000:]\n",
    "y = raw.iloc[:, :2]\n",
    "y_train = y[:22000]\n",
    "y_val = y[22000:]\n",
    "x_test = test.iloc[:, 2:41]\n",
    "y_test = test.iloc[:, :2]\n",
    "\n",
    "#I did this because in the documentation of the site which contained the dataset mentioned that the fuel value will range from 0.7 to 5%, So I modified the dataset from the numbers app changing the name of coloumns the first two were k-inf and pppf (the numbers app mentions the maxm and minm value and on the histogram on the documentation the maxm and minm was exact match with their type) respectively so I changes the coloumn name and rest were fuels. \n"
   ]
  },
  {
   "cell_type": "code",
   "execution_count": null,
   "id": "c9515ea2-a503-4a20-a5bb-a306e00e82f6",
   "metadata": {},
   "outputs": [],
   "source": []
  },
  {
   "cell_type": "code",
   "execution_count": 3,
   "id": "7704038b-9f92-497e-bd9b-c493da99d404",
   "metadata": {},
   "outputs": [
    {
     "name": "stderr",
     "output_type": "stream",
     "text": [
      "[I 2025-01-27 17:37:24,076] A new study created in memory with name: no-name-4cbcdd8b-77e8-4784-95a9-797b75916aaa\n"
     ]
    },
    {
     "name": "stdout",
     "output_type": "stream",
     "text": [
      "\u001b[1m63/63\u001b[0m \u001b[32m━━━━━━━━━━━━━━━━━━━━\u001b[0m\u001b[37m\u001b[0m \u001b[1m0s\u001b[0m 350us/step\n"
     ]
    },
    {
     "name": "stderr",
     "output_type": "stream",
     "text": [
      "[I 2025-01-27 17:37:46,860] Trial 0 finished with value: 0.007551882416009903 and parameters: {'num_units1': 140, 'num_units2': 80, 'epochs': 84, 'dropout_rate': 0.2958819985720689, 'learning_rate': 0.010055836019481054, 'batch_size': 32}. Best is trial 0 with value: 0.007551882416009903.\n"
     ]
    },
    {
     "name": "stdout",
     "output_type": "stream",
     "text": [
      "\u001b[1m63/63\u001b[0m \u001b[32m━━━━━━━━━━━━━━━━━━━━\u001b[0m\u001b[37m\u001b[0m \u001b[1m0s\u001b[0m 342us/step\n"
     ]
    },
    {
     "name": "stderr",
     "output_type": "stream",
     "text": [
      "[I 2025-01-27 17:38:14,539] Trial 1 finished with value: 0.008211019448935986 and parameters: {'num_units1': 80, 'num_units2': 80, 'epochs': 189, 'dropout_rate': 0.1603958768192837, 'learning_rate': 0.04697152583498441, 'batch_size': 64}. Best is trial 0 with value: 0.007551882416009903.\n"
     ]
    },
    {
     "name": "stdout",
     "output_type": "stream",
     "text": [
      "\u001b[1m63/63\u001b[0m \u001b[32m━━━━━━━━━━━━━━━━━━━━\u001b[0m\u001b[37m\u001b[0m \u001b[1m0s\u001b[0m 342us/step\n"
     ]
    },
    {
     "name": "stderr",
     "output_type": "stream",
     "text": [
      "[I 2025-01-27 17:38:29,596] Trial 2 finished with value: 0.0075575606897473335 and parameters: {'num_units1': 20, 'num_units2': 50, 'epochs': 190, 'dropout_rate': 0.30236033876065377, 'learning_rate': 0.0369802582833128, 'batch_size': 128}. Best is trial 0 with value: 0.007551882416009903.\n"
     ]
    },
    {
     "name": "stdout",
     "output_type": "stream",
     "text": [
      "\u001b[1m63/63\u001b[0m \u001b[32m━━━━━━━━━━━━━━━━━━━━\u001b[0m\u001b[37m\u001b[0m \u001b[1m0s\u001b[0m 347us/step\n"
     ]
    },
    {
     "name": "stderr",
     "output_type": "stream",
     "text": [
      "[I 2025-01-27 17:38:41,342] Trial 3 finished with value: 0.007597952615469694 and parameters: {'num_units1': 20, 'num_units2': 50, 'epochs': 50, 'dropout_rate': 0.22280718986331977, 'learning_rate': 0.04446044556450784, 'batch_size': 32}. Best is trial 0 with value: 0.007551882416009903.\n"
     ]
    },
    {
     "name": "stdout",
     "output_type": "stream",
     "text": [
      "\u001b[1m63/63\u001b[0m \u001b[32m━━━━━━━━━━━━━━━━━━━━\u001b[0m\u001b[37m\u001b[0m \u001b[1m0s\u001b[0m 359us/step\n"
     ]
    },
    {
     "name": "stderr",
     "output_type": "stream",
     "text": [
      "[I 2025-01-27 17:39:00,257] Trial 4 finished with value: 0.008309698663651943 and parameters: {'num_units1': 20, 'num_units2': 200, 'epochs': 75, 'dropout_rate': 0.44862757959465766, 'learning_rate': 0.09996419794811068, 'batch_size': 32}. Best is trial 0 with value: 0.007551882416009903.\n"
     ]
    },
    {
     "name": "stdout",
     "output_type": "stream",
     "text": [
      "\u001b[1m63/63\u001b[0m \u001b[32m━━━━━━━━━━━━━━━━━━━━\u001b[0m\u001b[37m\u001b[0m \u001b[1m0s\u001b[0m 349us/step\n"
     ]
    },
    {
     "name": "stderr",
     "output_type": "stream",
     "text": [
      "[I 2025-01-27 17:39:23,862] Trial 5 finished with value: 0.007550361566245556 and parameters: {'num_units1': 20, 'num_units2': 110, 'epochs': 98, 'dropout_rate': 0.36613720775105546, 'learning_rate': 0.004723987032723953, 'batch_size': 32}. Best is trial 5 with value: 0.007550361566245556.\n"
     ]
    },
    {
     "name": "stdout",
     "output_type": "stream",
     "text": [
      "\u001b[1m63/63\u001b[0m \u001b[32m━━━━━━━━━━━━━━━━━━━━\u001b[0m\u001b[37m\u001b[0m \u001b[1m0s\u001b[0m 349us/step\n"
     ]
    },
    {
     "name": "stderr",
     "output_type": "stream",
     "text": [
      "[I 2025-01-27 17:39:48,531] Trial 6 finished with value: 0.007604826707392931 and parameters: {'num_units1': 20, 'num_units2': 170, 'epochs': 172, 'dropout_rate': 0.4570497367015931, 'learning_rate': 0.05973547423246448, 'batch_size': 64}. Best is trial 5 with value: 0.007550361566245556.\n"
     ]
    },
    {
     "name": "stdout",
     "output_type": "stream",
     "text": [
      "\u001b[1m63/63\u001b[0m \u001b[32m━━━━━━━━━━━━━━━━━━━━\u001b[0m\u001b[37m\u001b[0m \u001b[1m0s\u001b[0m 357us/step\n"
     ]
    },
    {
     "name": "stderr",
     "output_type": "stream",
     "text": [
      "[I 2025-01-27 17:40:04,635] Trial 7 finished with value: 0.007876656018197536 and parameters: {'num_units1': 20, 'num_units2': 110, 'epochs': 67, 'dropout_rate': 0.29268831400441353, 'learning_rate': 0.05478297253706531, 'batch_size': 32}. Best is trial 5 with value: 0.007550361566245556.\n"
     ]
    },
    {
     "name": "stdout",
     "output_type": "stream",
     "text": [
      "\u001b[1m63/63\u001b[0m \u001b[32m━━━━━━━━━━━━━━━━━━━━\u001b[0m\u001b[37m\u001b[0m \u001b[1m0s\u001b[0m 347us/step\n"
     ]
    },
    {
     "name": "stderr",
     "output_type": "stream",
     "text": [
      "[I 2025-01-27 17:40:12,197] Trial 8 finished with value: 0.007555312477052212 and parameters: {'num_units1': 140, 'num_units2': 50, 'epochs': 69, 'dropout_rate': 0.36610633268994414, 'learning_rate': 0.09854666674118095, 'batch_size': 128}. Best is trial 5 with value: 0.007550361566245556.\n"
     ]
    },
    {
     "name": "stdout",
     "output_type": "stream",
     "text": [
      "\u001b[1m63/63\u001b[0m \u001b[32m━━━━━━━━━━━━━━━━━━━━\u001b[0m\u001b[37m\u001b[0m \u001b[1m0s\u001b[0m 350us/step\n"
     ]
    },
    {
     "name": "stderr",
     "output_type": "stream",
     "text": [
      "[I 2025-01-27 17:40:17,191] Trial 9 finished with value: 0.007867392152547836 and parameters: {'num_units1': 110, 'num_units2': 20, 'epochs': 52, 'dropout_rate': 0.1429899389391998, 'learning_rate': 0.07883624948158172, 'batch_size': 128}. Best is trial 5 with value: 0.007550361566245556.\n"
     ]
    },
    {
     "name": "stdout",
     "output_type": "stream",
     "text": [
      "\u001b[1m63/63\u001b[0m \u001b[32m━━━━━━━━━━━━━━━━━━━━\u001b[0m\u001b[37m\u001b[0m \u001b[1m0s\u001b[0m 382us/step\n"
     ]
    },
    {
     "name": "stderr",
     "output_type": "stream",
     "text": [
      "[I 2025-01-27 17:40:54,780] Trial 10 finished with value: 0.007560526952147484 and parameters: {'num_units1': 200, 'num_units2': 140, 'epochs': 116, 'dropout_rate': 0.021641882738976936, 'learning_rate': 0.01255411546677565, 'batch_size': 32}. Best is trial 5 with value: 0.007550361566245556.\n"
     ]
    },
    {
     "name": "stdout",
     "output_type": "stream",
     "text": [
      "\u001b[1m63/63\u001b[0m \u001b[32m━━━━━━━━━━━━━━━━━━━━\u001b[0m\u001b[37m\u001b[0m \u001b[1m0s\u001b[0m 372us/step\n"
     ]
    },
    {
     "name": "stderr",
     "output_type": "stream",
     "text": [
      "[I 2025-01-27 17:41:26,809] Trial 11 finished with value: 0.007314670365303755 and parameters: {'num_units1': 170, 'num_units2': 110, 'epochs': 108, 'dropout_rate': 0.37472945691708825, 'learning_rate': 0.003710138052528388, 'batch_size': 32}. Best is trial 11 with value: 0.007314670365303755.\n"
     ]
    },
    {
     "name": "stdout",
     "output_type": "stream",
     "text": [
      "\u001b[1m63/63\u001b[0m \u001b[32m━━━━━━━━━━━━━━━━━━━━\u001b[0m\u001b[37m\u001b[0m \u001b[1m0s\u001b[0m 385us/step\n"
     ]
    },
    {
     "name": "stderr",
     "output_type": "stream",
     "text": [
      "[I 2025-01-27 17:42:03,669] Trial 12 finished with value: 0.0030698918271809816 and parameters: {'num_units1': 200, 'num_units2': 140, 'epochs': 113, 'dropout_rate': 0.3834825763211495, 'learning_rate': 0.0007098519534706957, 'batch_size': 32}. Best is trial 12 with value: 0.0030698918271809816.\n"
     ]
    },
    {
     "name": "stdout",
     "output_type": "stream",
     "text": [
      "\u001b[1m63/63\u001b[0m \u001b[32m━━━━━━━━━━━━━━━━━━━━\u001b[0m\u001b[37m\u001b[0m \u001b[1m0s\u001b[0m 416us/step\n"
     ]
    },
    {
     "name": "stderr",
     "output_type": "stream",
     "text": [
      "[I 2025-01-27 17:42:51,720] Trial 13 finished with value: 0.007531299721449614 and parameters: {'num_units1': 200, 'num_units2': 140, 'epochs': 147, 'dropout_rate': 0.4997765459822491, 'learning_rate': 0.028225539297672318, 'batch_size': 32}. Best is trial 12 with value: 0.0030698918271809816.\n"
     ]
    },
    {
     "name": "stdout",
     "output_type": "stream",
     "text": [
      "\u001b[1m63/63\u001b[0m \u001b[32m━━━━━━━━━━━━━━━━━━━━\u001b[0m\u001b[37m\u001b[0m \u001b[1m0s\u001b[0m 382us/step\n"
     ]
    },
    {
     "name": "stderr",
     "output_type": "stream",
     "text": [
      "[I 2025-01-27 17:43:32,639] Trial 14 finished with value: 0.007543387357145548 and parameters: {'num_units1': 170, 'num_units2': 140, 'epochs': 130, 'dropout_rate': 0.3913297016338792, 'learning_rate': 0.021488851818242748, 'batch_size': 32}. Best is trial 12 with value: 0.0030698918271809816.\n"
     ]
    },
    {
     "name": "stdout",
     "output_type": "stream",
     "text": [
      "\u001b[1m63/63\u001b[0m \u001b[32m━━━━━━━━━━━━━━━━━━━━\u001b[0m\u001b[37m\u001b[0m \u001b[1m0s\u001b[0m 411us/step\n"
     ]
    },
    {
     "name": "stderr",
     "output_type": "stream",
     "text": [
      "[I 2025-01-27 17:43:57,353] Trial 15 finished with value: 0.004429399035871029 and parameters: {'num_units1': 170, 'num_units2': 200, 'epochs': 110, 'dropout_rate': 0.4034031813551447, 'learning_rate': 0.002140100625265365, 'batch_size': 64}. Best is trial 12 with value: 0.0030698918271809816.\n"
     ]
    },
    {
     "name": "stdout",
     "output_type": "stream",
     "text": [
      "\u001b[1m63/63\u001b[0m \u001b[32m━━━━━━━━━━━━━━━━━━━━\u001b[0m\u001b[37m\u001b[0m \u001b[1m0s\u001b[0m 381us/step\n"
     ]
    },
    {
     "name": "stderr",
     "output_type": "stream",
     "text": [
      "[I 2025-01-27 17:44:28,375] Trial 16 finished with value: 0.0077138496562838554 and parameters: {'num_units1': 170, 'num_units2': 200, 'epochs': 141, 'dropout_rate': 0.42211210596891435, 'learning_rate': 0.021374420333021577, 'batch_size': 64}. Best is trial 12 with value: 0.0030698918271809816.\n"
     ]
    },
    {
     "name": "stdout",
     "output_type": "stream",
     "text": [
      "\u001b[1m63/63\u001b[0m \u001b[32m━━━━━━━━━━━━━━━━━━━━\u001b[0m\u001b[37m\u001b[0m \u001b[1m0s\u001b[0m 391us/step\n"
     ]
    },
    {
     "name": "stderr",
     "output_type": "stream",
     "text": [
      "[I 2025-01-27 17:45:02,439] Trial 17 finished with value: 0.0038268722128123045 and parameters: {'num_units1': 200, 'num_units2': 170, 'epochs': 156, 'dropout_rate': 0.49449086185707836, 'learning_rate': 0.000452516883080952, 'batch_size': 64}. Best is trial 12 with value: 0.0030698918271809816.\n"
     ]
    },
    {
     "name": "stdout",
     "output_type": "stream",
     "text": [
      "\u001b[1m63/63\u001b[0m \u001b[32m━━━━━━━━━━━━━━━━━━━━\u001b[0m\u001b[37m\u001b[0m \u001b[1m0s\u001b[0m 392us/step\n"
     ]
    },
    {
     "name": "stderr",
     "output_type": "stream",
     "text": [
      "[I 2025-01-27 17:45:37,519] Trial 18 finished with value: 0.007762819062918425 and parameters: {'num_units1': 200, 'num_units2': 170, 'epochs': 158, 'dropout_rate': 0.4824009319441208, 'learning_rate': 0.06539902913112604, 'batch_size': 64}. Best is trial 12 with value: 0.0030698918271809816.\n"
     ]
    },
    {
     "name": "stdout",
     "output_type": "stream",
     "text": [
      "\u001b[1m63/63\u001b[0m \u001b[32m━━━━━━━━━━━━━━━━━━━━\u001b[0m\u001b[37m\u001b[0m \u001b[1m0s\u001b[0m 357us/step\n"
     ]
    },
    {
     "name": "stderr",
     "output_type": "stream",
     "text": [
      "[I 2025-01-27 17:46:06,112] Trial 19 finished with value: 0.007545616012066603 and parameters: {'num_units1': 80, 'num_units2': 170, 'epochs': 166, 'dropout_rate': 0.3313245428981547, 'learning_rate': 0.018387631683354104, 'batch_size': 64}. Best is trial 12 with value: 0.0030698918271809816.\n"
     ]
    },
    {
     "name": "stdout",
     "output_type": "stream",
     "text": [
      "\u001b[1m63/63\u001b[0m \u001b[32m━━━━━━━━━━━━━━━━━━━━\u001b[0m\u001b[37m\u001b[0m \u001b[1m0s\u001b[0m 374us/step\n"
     ]
    },
    {
     "name": "stderr",
     "output_type": "stream",
     "text": [
      "[I 2025-01-27 17:46:32,249] Trial 20 finished with value: 0.007532171439379454 and parameters: {'num_units1': 140, 'num_units2': 170, 'epochs': 132, 'dropout_rate': 0.2270654421272539, 'learning_rate': 0.03316726640639882, 'batch_size': 64}. Best is trial 12 with value: 0.0030698918271809816.\n"
     ]
    },
    {
     "name": "stdout",
     "output_type": "stream",
     "text": [
      "\u001b[1m63/63\u001b[0m \u001b[32m━━━━━━━━━━━━━━━━━━━━\u001b[0m\u001b[37m\u001b[0m \u001b[1m0s\u001b[0m 391us/step\n"
     ]
    },
    {
     "name": "stderr",
     "output_type": "stream",
     "text": [
      "[I 2025-01-27 17:46:54,529] Trial 21 finished with value: 0.0031072665005922318 and parameters: {'num_units1': 200, 'num_units2': 200, 'epochs': 98, 'dropout_rate': 0.4205349727122641, 'learning_rate': 0.0009017647098570683, 'batch_size': 64}. Best is trial 12 with value: 0.0030698918271809816.\n"
     ]
    },
    {
     "name": "stdout",
     "output_type": "stream",
     "text": [
      "\u001b[1m63/63\u001b[0m \u001b[32m━━━━━━━━━━━━━━━━━━━━\u001b[0m\u001b[37m\u001b[0m \u001b[1m0s\u001b[0m 411us/step\n"
     ]
    },
    {
     "name": "stderr",
     "output_type": "stream",
     "text": [
      "[I 2025-01-27 17:47:15,465] Trial 22 finished with value: 0.003093576990067959 and parameters: {'num_units1': 200, 'num_units2': 140, 'epochs': 97, 'dropout_rate': 0.43552469611300854, 'learning_rate': 0.000341001535687555, 'batch_size': 64}. Best is trial 12 with value: 0.0030698918271809816.\n"
     ]
    },
    {
     "name": "stdout",
     "output_type": "stream",
     "text": [
      "\u001b[1m63/63\u001b[0m \u001b[32m━━━━━━━━━━━━━━━━━━━━\u001b[0m\u001b[37m\u001b[0m \u001b[1m0s\u001b[0m 383us/step\n"
     ]
    },
    {
     "name": "stderr",
     "output_type": "stream",
     "text": [
      "[I 2025-01-27 17:47:35,410] Trial 23 finished with value: 0.007531430572271347 and parameters: {'num_units1': 200, 'num_units2': 140, 'epochs': 93, 'dropout_rate': 0.43254221979596386, 'learning_rate': 0.013348245095485493, 'batch_size': 64}. Best is trial 12 with value: 0.0030698918271809816.\n"
     ]
    },
    {
     "name": "stdout",
     "output_type": "stream",
     "text": [
      "\u001b[1m63/63\u001b[0m \u001b[32m━━━━━━━━━━━━━━━━━━━━\u001b[0m\u001b[37m\u001b[0m \u001b[1m0s\u001b[0m 363us/step\n"
     ]
    },
    {
     "name": "stderr",
     "output_type": "stream",
     "text": [
      "[I 2025-01-27 17:47:53,196] Trial 24 finished with value: 0.009597526863217354 and parameters: {'num_units1': 170, 'num_units2': 110, 'epochs': 94, 'dropout_rate': 0.3321867275962116, 'learning_rate': 0.010679568741999896, 'batch_size': 64}. Best is trial 12 with value: 0.0030698918271809816.\n"
     ]
    },
    {
     "name": "stdout",
     "output_type": "stream",
     "text": [
      "\u001b[1m63/63\u001b[0m \u001b[32m━━━━━━━━━━━━━━━━━━━━\u001b[0m\u001b[37m\u001b[0m \u001b[1m0s\u001b[0m 375us/step\n"
     ]
    },
    {
     "name": "stderr",
     "output_type": "stream",
     "text": [
      "[I 2025-01-27 17:48:09,402] Trial 25 finished with value: 0.007616308052092791 and parameters: {'num_units1': 200, 'num_units2': 140, 'epochs': 119, 'dropout_rate': 0.4542353180309187, 'learning_rate': 0.023645456500934352, 'batch_size': 128}. Best is trial 12 with value: 0.0030698918271809816.\n"
     ]
    },
    {
     "name": "stdout",
     "output_type": "stream",
     "text": [
      "\u001b[1m63/63\u001b[0m \u001b[32m━━━━━━━━━━━━━━━━━━━━\u001b[0m\u001b[37m\u001b[0m \u001b[1m0s\u001b[0m 352us/step\n"
     ]
    },
    {
     "name": "stderr",
     "output_type": "stream",
     "text": [
      "[I 2025-01-27 17:48:25,874] Trial 26 finished with value: 0.007555574644356966 and parameters: {'num_units1': 110, 'num_units2': 80, 'epochs': 104, 'dropout_rate': 0.33882931746417555, 'learning_rate': 0.03662034433728797, 'batch_size': 64}. Best is trial 12 with value: 0.0030698918271809816.\n"
     ]
    },
    {
     "name": "stdout",
     "output_type": "stream",
     "text": [
      "\u001b[1m63/63\u001b[0m \u001b[32m━━━━━━━━━━━━━━━━━━━━\u001b[0m\u001b[37m\u001b[0m \u001b[1m0s\u001b[0m 376us/step\n"
     ]
    },
    {
     "name": "stderr",
     "output_type": "stream",
     "text": [
      "[I 2025-01-27 17:48:43,243] Trial 27 finished with value: 0.010620431043207645 and parameters: {'num_units1': 140, 'num_units2': 200, 'epochs': 83, 'dropout_rate': 0.25887151898539, 'learning_rate': 0.008705198618379564, 'batch_size': 64}. Best is trial 12 with value: 0.0030698918271809816.\n"
     ]
    },
    {
     "name": "stdout",
     "output_type": "stream",
     "text": [
      "\u001b[1m63/63\u001b[0m \u001b[32m━━━━━━━━━━━━━━━━━━━━\u001b[0m\u001b[37m\u001b[0m \u001b[1m0s\u001b[0m 381us/step\n"
     ]
    },
    {
     "name": "stderr",
     "output_type": "stream",
     "text": [
      "[I 2025-01-27 17:49:01,506] Trial 28 finished with value: 0.007975953631103039 and parameters: {'num_units1': 170, 'num_units2': 170, 'epochs': 128, 'dropout_rate': 0.4077539465700208, 'learning_rate': 0.07352193947157219, 'batch_size': 128}. Best is trial 12 with value: 0.0030698918271809816.\n"
     ]
    },
    {
     "name": "stdout",
     "output_type": "stream",
     "text": [
      "\u001b[1m63/63\u001b[0m \u001b[32m━━━━━━━━━━━━━━━━━━━━\u001b[0m\u001b[37m\u001b[0m \u001b[1m0s\u001b[0m 366us/step\n"
     ]
    },
    {
     "name": "stderr",
     "output_type": "stream",
     "text": [
      "[I 2025-01-27 17:49:16,292] Trial 29 finished with value: 0.008777257055044174 and parameters: {'num_units1': 140, 'num_units2': 110, 'epochs': 82, 'dropout_rate': 0.27528137339295544, 'learning_rate': 0.016463817995368203, 'batch_size': 64}. Best is trial 12 with value: 0.0030698918271809816.\n"
     ]
    },
    {
     "name": "stdout",
     "output_type": "stream",
     "text": [
      "\u001b[1m63/63\u001b[0m \u001b[32m━━━━━━━━━━━━━━━━━━━━\u001b[0m\u001b[37m\u001b[0m \u001b[1m0s\u001b[0m 381us/step\n"
     ]
    },
    {
     "name": "stderr",
     "output_type": "stream",
     "text": [
      "[I 2025-01-27 17:49:55,037] Trial 30 finished with value: 0.007549138739705086 and parameters: {'num_units1': 200, 'num_units2': 140, 'epochs': 119, 'dropout_rate': 0.0188855812161578, 'learning_rate': 0.028647027030577386, 'batch_size': 32}. Best is trial 12 with value: 0.0030698918271809816.\n"
     ]
    },
    {
     "name": "stdout",
     "output_type": "stream",
     "text": [
      "\u001b[1m63/63\u001b[0m \u001b[32m━━━━━━━━━━━━━━━━━━━━\u001b[0m\u001b[37m\u001b[0m \u001b[1m0s\u001b[0m 399us/step\n"
     ]
    },
    {
     "name": "stderr",
     "output_type": "stream",
     "text": [
      "[I 2025-01-27 17:50:26,564] Trial 31 finished with value: 0.005701803602278233 and parameters: {'num_units1': 200, 'num_units2': 170, 'epochs': 144, 'dropout_rate': 0.4826859680755148, 'learning_rate': 0.0023318570720111563, 'batch_size': 64}. Best is trial 12 with value: 0.0030698918271809816.\n"
     ]
    },
    {
     "name": "stdout",
     "output_type": "stream",
     "text": [
      "\u001b[1m63/63\u001b[0m \u001b[32m━━━━━━━━━━━━━━━━━━━━\u001b[0m\u001b[37m\u001b[0m \u001b[1m0s\u001b[0m 392us/step\n"
     ]
    },
    {
     "name": "stderr",
     "output_type": "stream",
     "text": [
      "[I 2025-01-27 17:51:07,126] Trial 32 finished with value: 0.003108220174908638 and parameters: {'num_units1': 200, 'num_units2': 200, 'epochs': 179, 'dropout_rate': 0.465279699469686, 'learning_rate': 0.001027614129929385, 'batch_size': 64}. Best is trial 12 with value: 0.0030698918271809816.\n"
     ]
    },
    {
     "name": "stdout",
     "output_type": "stream",
     "text": [
      "\u001b[1m63/63\u001b[0m \u001b[32m━━━━━━━━━━━━━━━━━━━━\u001b[0m\u001b[37m\u001b[0m \u001b[1m0s\u001b[0m 383us/step\n"
     ]
    },
    {
     "name": "stderr",
     "output_type": "stream",
     "text": [
      "[I 2025-01-27 17:51:50,485] Trial 33 finished with value: 0.007545411586761475 and parameters: {'num_units1': 170, 'num_units2': 200, 'epochs': 199, 'dropout_rate': 0.4324346721275729, 'learning_rate': 0.008055754225637271, 'batch_size': 64}. Best is trial 12 with value: 0.0030698918271809816.\n"
     ]
    },
    {
     "name": "stdout",
     "output_type": "stream",
     "text": [
      "\u001b[1m63/63\u001b[0m \u001b[32m━━━━━━━━━━━━━━━━━━━━\u001b[0m\u001b[37m\u001b[0m \u001b[1m0s\u001b[0m 354us/step\n"
     ]
    },
    {
     "name": "stderr",
     "output_type": "stream",
     "text": [
      "[I 2025-01-27 17:52:07,376] Trial 34 finished with value: 0.007527773268520832 and parameters: {'num_units1': 50, 'num_units2': 200, 'epochs': 101, 'dropout_rate': 0.46365778431805804, 'learning_rate': 0.00820285637924124, 'batch_size': 64}. Best is trial 12 with value: 0.0030698918271809816.\n"
     ]
    },
    {
     "name": "stdout",
     "output_type": "stream",
     "text": [
      "\u001b[1m63/63\u001b[0m \u001b[32m━━━━━━━━━━━━━━━━━━━━\u001b[0m\u001b[37m\u001b[0m \u001b[1m0s\u001b[0m 364us/step\n"
     ]
    },
    {
     "name": "stderr",
     "output_type": "stream",
     "text": [
      "[I 2025-01-27 17:52:38,978] Trial 35 finished with value: 0.009014986455440521 and parameters: {'num_units1': 200, 'num_units2': 80, 'epochs': 176, 'dropout_rate': 0.1786689690778589, 'learning_rate': 0.01375331067250397, 'batch_size': 64}. Best is trial 12 with value: 0.0030698918271809816.\n"
     ]
    },
    {
     "name": "stdout",
     "output_type": "stream",
     "text": [
      "\u001b[1m63/63\u001b[0m \u001b[32m━━━━━━━━━━━━━━━━━━━━\u001b[0m\u001b[37m\u001b[0m \u001b[1m0s\u001b[0m 382us/step\n"
     ]
    },
    {
     "name": "stderr",
     "output_type": "stream",
     "text": [
      "[I 2025-01-27 17:53:41,449] Trial 36 finished with value: 0.007564458064734936 and parameters: {'num_units1': 170, 'num_units2': 200, 'epochs': 185, 'dropout_rate': 0.38169321525406014, 'learning_rate': 0.007234408319706168, 'batch_size': 32}. Best is trial 12 with value: 0.0030698918271809816.\n"
     ]
    },
    {
     "name": "stdout",
     "output_type": "stream",
     "text": [
      "\u001b[1m63/63\u001b[0m \u001b[32m━━━━━━━━━━━━━━━━━━━━\u001b[0m\u001b[37m\u001b[0m \u001b[1m0s\u001b[0m 388us/step\n"
     ]
    },
    {
     "name": "stderr",
     "output_type": "stream",
     "text": [
      "[I 2025-01-27 17:54:01,846] Trial 37 finished with value: 0.0026094357017427683 and parameters: {'num_units1': 200, 'num_units2': 170, 'epochs': 93, 'dropout_rate': 0.35570775509912117, 'learning_rate': 0.0016093784232251857, 'batch_size': 64}. Best is trial 37 with value: 0.0026094357017427683.\n"
     ]
    },
    {
     "name": "stdout",
     "output_type": "stream",
     "text": [
      "\u001b[1m63/63\u001b[0m \u001b[32m━━━━━━━━━━━━━━━━━━━━\u001b[0m\u001b[37m\u001b[0m \u001b[1m0s\u001b[0m 359us/step\n"
     ]
    },
    {
     "name": "stderr",
     "output_type": "stream",
     "text": [
      "[I 2025-01-27 17:54:12,792] Trial 38 finished with value: 0.007560755591839552 and parameters: {'num_units1': 80, 'num_units2': 170, 'epochs': 90, 'dropout_rate': 0.3068256304753231, 'learning_rate': 0.026100500951584456, 'batch_size': 128}. Best is trial 37 with value: 0.0026094357017427683.\n"
     ]
    },
    {
     "name": "stdout",
     "output_type": "stream",
     "text": [
      "\u001b[1m63/63\u001b[0m \u001b[32m━━━━━━━━━━━━━━━━━━━━\u001b[0m\u001b[37m\u001b[0m \u001b[1m0s\u001b[0m 369us/step\n"
     ]
    },
    {
     "name": "stderr",
     "output_type": "stream",
     "text": [
      "[I 2025-01-27 17:54:36,053] Trial 39 finished with value: 0.007807621732354164 and parameters: {'num_units1': 140, 'num_units2': 140, 'epochs': 77, 'dropout_rate': 0.3456114886776921, 'learning_rate': 0.048578728518561924, 'batch_size': 32}. Best is trial 37 with value: 0.0026094357017427683.\n"
     ]
    },
    {
     "name": "stdout",
     "output_type": "stream",
     "text": [
      "\u001b[1m63/63\u001b[0m \u001b[32m━━━━━━━━━━━━━━━━━━━━\u001b[0m\u001b[37m\u001b[0m \u001b[1m0s\u001b[0m 374us/step\n"
     ]
    },
    {
     "name": "stderr",
     "output_type": "stream",
     "text": [
      "[I 2025-01-27 17:54:48,277] Trial 40 finished with value: 0.007524141576141119 and parameters: {'num_units1': 110, 'num_units2': 140, 'epochs': 68, 'dropout_rate': 0.3062810785988276, 'learning_rate': 0.01757620382704173, 'batch_size': 64}. Best is trial 37 with value: 0.0026094357017427683.\n"
     ]
    },
    {
     "name": "stdout",
     "output_type": "stream",
     "text": [
      "\u001b[1m63/63\u001b[0m \u001b[32m━━━━━━━━━━━━━━━━━━━━\u001b[0m\u001b[37m\u001b[0m \u001b[1m0s\u001b[0m 380us/step\n"
     ]
    },
    {
     "name": "stderr",
     "output_type": "stream",
     "text": [
      "[I 2025-01-27 17:55:13,423] Trial 41 finished with value: 0.0031532917637377977 and parameters: {'num_units1': 200, 'num_units2': 200, 'epochs': 112, 'dropout_rate': 0.4280017150646812, 'learning_rate': 0.0006156773174519694, 'batch_size': 64}. Best is trial 37 with value: 0.0026094357017427683.\n"
     ]
    },
    {
     "name": "stdout",
     "output_type": "stream",
     "text": [
      "\u001b[1m63/63\u001b[0m \u001b[32m━━━━━━━━━━━━━━━━━━━━\u001b[0m\u001b[37m\u001b[0m \u001b[1m0s\u001b[0m 385us/step\n"
     ]
    },
    {
     "name": "stderr",
     "output_type": "stream",
     "text": [
      "[I 2025-01-27 17:55:32,977] Trial 42 finished with value: 0.007611872162669897 and parameters: {'num_units1': 200, 'num_units2': 170, 'epochs': 88, 'dropout_rate': 0.4678421360642056, 'learning_rate': 0.005155938128502855, 'batch_size': 64}. Best is trial 37 with value: 0.0026094357017427683.\n"
     ]
    },
    {
     "name": "stdout",
     "output_type": "stream",
     "text": [
      "\u001b[1m63/63\u001b[0m \u001b[32m━━━━━━━━━━━━━━━━━━━━\u001b[0m\u001b[37m\u001b[0m \u001b[1m0s\u001b[0m 387us/step\n"
     ]
    },
    {
     "name": "stderr",
     "output_type": "stream",
     "text": [
      "[I 2025-01-27 17:55:56,065] Trial 43 finished with value: 0.0021232811268419027 and parameters: {'num_units1': 200, 'num_units2': 200, 'epochs': 100, 'dropout_rate': 0.35857381708773156, 'learning_rate': 0.0005719041153192629, 'batch_size': 64}. Best is trial 43 with value: 0.0021232811268419027.\n"
     ]
    },
    {
     "name": "stdout",
     "output_type": "stream",
     "text": [
      "\u001b[1m63/63\u001b[0m \u001b[32m━━━━━━━━━━━━━━━━━━━━\u001b[0m\u001b[37m\u001b[0m \u001b[1m0s\u001b[0m 376us/step\n"
     ]
    },
    {
     "name": "stderr",
     "output_type": "stream",
     "text": [
      "[I 2025-01-27 17:56:17,106] Trial 44 finished with value: 0.007564453408122063 and parameters: {'num_units1': 170, 'num_units2': 170, 'epochs': 98, 'dropout_rate': 0.3619671163810846, 'learning_rate': 0.012544638936717471, 'batch_size': 64}. Best is trial 43 with value: 0.0021232811268419027.\n"
     ]
    },
    {
     "name": "stdout",
     "output_type": "stream",
     "text": [
      "\u001b[1m63/63\u001b[0m \u001b[32m━━━━━━━━━━━━━━━━━━━━\u001b[0m\u001b[37m\u001b[0m \u001b[1m0s\u001b[0m 373us/step\n"
     ]
    },
    {
     "name": "stderr",
     "output_type": "stream",
     "text": [
      "[I 2025-01-27 17:56:49,553] Trial 45 finished with value: 0.007539584767073393 and parameters: {'num_units1': 200, 'num_units2': 110, 'epochs': 104, 'dropout_rate': 0.398958986504478, 'learning_rate': 0.08632163470605948, 'batch_size': 32}. Best is trial 43 with value: 0.0021232811268419027.\n"
     ]
    },
    {
     "name": "stdout",
     "output_type": "stream",
     "text": [
      "\u001b[1m63/63\u001b[0m \u001b[32m━━━━━━━━━━━━━━━━━━━━\u001b[0m\u001b[37m\u001b[0m \u001b[1m0s\u001b[0m 384us/step\n"
     ]
    },
    {
     "name": "stderr",
     "output_type": "stream",
     "text": [
      "[I 2025-01-27 17:57:02,604] Trial 46 finished with value: 0.007111749611794949 and parameters: {'num_units1': 170, 'num_units2': 200, 'epochs': 59, 'dropout_rate': 0.07869618384749177, 'learning_rate': 0.04141777597409552, 'batch_size': 64}. Best is trial 43 with value: 0.0021232811268419027.\n"
     ]
    },
    {
     "name": "stdout",
     "output_type": "stream",
     "text": [
      "\u001b[1m63/63\u001b[0m \u001b[32m━━━━━━━━━━━━━━━━━━━━\u001b[0m\u001b[37m\u001b[0m \u001b[1m0s\u001b[0m 381us/step\n"
     ]
    },
    {
     "name": "stderr",
     "output_type": "stream",
     "text": [
      "[I 2025-01-27 17:57:27,879] Trial 47 finished with value: 0.007538562640547752 and parameters: {'num_units1': 200, 'num_units2': 170, 'epochs': 74, 'dropout_rate': 0.36148395075676665, 'learning_rate': 0.006734305847667228, 'batch_size': 32}. Best is trial 43 with value: 0.0021232811268419027.\n"
     ]
    },
    {
     "name": "stdout",
     "output_type": "stream",
     "text": [
      "\u001b[1m63/63\u001b[0m \u001b[32m━━━━━━━━━━━━━━━━━━━━\u001b[0m\u001b[37m\u001b[0m \u001b[1m0s\u001b[0m 350us/step\n"
     ]
    },
    {
     "name": "stderr",
     "output_type": "stream",
     "text": [
      "[I 2025-01-27 17:57:39,352] Trial 48 finished with value: 0.007526293862611055 and parameters: {'num_units1': 170, 'num_units2': 20, 'epochs': 112, 'dropout_rate': 0.41313758774858395, 'learning_rate': 0.01622883026144363, 'batch_size': 128}. Best is trial 43 with value: 0.0021232811268419027.\n"
     ]
    },
    {
     "name": "stdout",
     "output_type": "stream",
     "text": [
      "\u001b[1m63/63\u001b[0m \u001b[32m━━━━━━━━━━━━━━━━━━━━\u001b[0m\u001b[37m\u001b[0m \u001b[1m0s\u001b[0m 390us/step\n"
     ]
    },
    {
     "name": "stderr",
     "output_type": "stream",
     "text": [
      "[I 2025-01-27 17:58:05,133] Trial 49 finished with value: 0.00756025081500411 and parameters: {'num_units1': 200, 'num_units2': 140, 'epochs': 123, 'dropout_rate': 0.3870110908462442, 'learning_rate': 0.003562382537685032, 'batch_size': 64}. Best is trial 43 with value: 0.0021232811268419027.\n"
     ]
    },
    {
     "name": "stdout",
     "output_type": "stream",
     "text": [
      "Best hyperparameters: {'num_units1': 200, 'num_units2': 200, 'epochs': 100, 'dropout_rate': 0.35857381708773156, 'learning_rate': 0.0005719041153192629, 'batch_size': 64}\n"
     ]
    }
   ],
   "source": [
    "# the doumantaion says Hyp-RL has the maximum accuracy (not considring CASOH), but I was unable to setup hyp-rl don't know why. And the gpt says optuna is a good alternative Hyp-RL\n",
    "\n",
    "def objective(trial):\n",
    "    # Hyperparameters to tune\n",
    "    num_units1 = trial.suggest_int(\"num_units1\", 20,200, step = 30) #higher steps for less computational time\n",
    "    num_units2 = trial.suggest_int(\"num_units2\", 20,200 ,step = 30)\n",
    "    epochs = trial.suggest_int(\"epochs\", 50,200)\n",
    "    dropout_rate = trial.suggest_float(\"dropout_rate\", 0.0, 0.5)\n",
    "    learning_rate = trial.suggest_float(\"learning_rate\", 0.0001, 0.1)\n",
    "    batch_size = trial.suggest_categorical(\"batch_size\", [32, 64, 128])\n",
    "\n",
    "    # Build the model and I have taken 2 layers for less computational time\n",
    "    model = Sequential()\n",
    "    model.add(Dense(num_units1, activation=\"relu\"))\n",
    "    model.add(Dropout(dropout_rate))\n",
    "    model.add(Dense(num_units2, activation=\"relu\"))\n",
    "    model.add(Dropout(dropout_rate))\n",
    "    model.add(Dense(2))  # Output layer for two outputs: Infinite Multiplication Factor and PPPF\n",
    "\n",
    "    model.compile(optimizer=tf.keras.optimizers.Adam(learning_rate=learning_rate),loss=\"mse\",metrics=[\"mse\"])\n",
    "\n",
    "    # Train the model\n",
    "    model.fit(x_train, y_train,validation_data=(x_val, y_val),epochs=epochs,batch_size=batch_size, verbose=0)\n",
    "\n",
    "    # Evaluate on the validation set\n",
    "    y_pred = model.predict(x_val)\n",
    "    val_mse = mean_squared_error(y_val, y_pred)\n",
    "\n",
    "    return val_mse\n",
    "\n",
    "# Run Optuna for hyperparameter optimization\n",
    "study = optuna.create_study(direction=\"minimize\")\n",
    "study.optimize(objective, n_trials=50) \n",
    "\n",
    "# Best hyperparameters\n",
    "best_params = study.best_params\n",
    "print(\"Best hyperparameters:\", best_params)\n",
    "\n"
   ]
  },
  {
   "cell_type": "code",
   "execution_count": 4,
   "id": "47ad8d8f-e3c0-493e-9009-aa74fd179ba7",
   "metadata": {},
   "outputs": [
    {
     "name": "stdout",
     "output_type": "stream",
     "text": [
      "Epoch 1/100\n",
      "\u001b[1m344/344\u001b[0m \u001b[32m━━━━━━━━━━━━━━━━━━━━\u001b[0m\u001b[37m\u001b[0m \u001b[1m1s\u001b[0m 838us/step - accuracy: 0.7916 - loss: 0.7088 - mae: 0.5790 - mse: 0.7088 - val_accuracy: 1.0000 - val_loss: 0.1447 - val_mae: 0.3484 - val_mse: 0.1447\n",
      "Epoch 2/100\n",
      "\u001b[1m344/344\u001b[0m \u001b[32m━━━━━━━━━━━━━━━━━━━━\u001b[0m\u001b[37m\u001b[0m \u001b[1m0s\u001b[0m 703us/step - accuracy: 0.9943 - loss: 0.0968 - mae: 0.2446 - mse: 0.0968 - val_accuracy: 1.0000 - val_loss: 0.1150 - val_mae: 0.3100 - val_mse: 0.1150\n",
      "Epoch 3/100\n",
      "\u001b[1m344/344\u001b[0m \u001b[32m━━━━━━━━━━━━━━━━━━━━\u001b[0m\u001b[37m\u001b[0m \u001b[1m0s\u001b[0m 726us/step - accuracy: 1.0000 - loss: 0.0747 - mae: 0.2154 - mse: 0.0747 - val_accuracy: 1.0000 - val_loss: 0.1019 - val_mae: 0.2937 - val_mse: 0.1019\n",
      "Epoch 4/100\n",
      "\u001b[1m344/344\u001b[0m \u001b[32m━━━━━━━━━━━━━━━━━━━━\u001b[0m\u001b[37m\u001b[0m \u001b[1m0s\u001b[0m 727us/step - accuracy: 1.0000 - loss: 0.0586 - mae: 0.1896 - mse: 0.0586 - val_accuracy: 1.0000 - val_loss: 0.0768 - val_mae: 0.2536 - val_mse: 0.0768\n",
      "Epoch 5/100\n",
      "\u001b[1m344/344\u001b[0m \u001b[32m━━━━━━━━━━━━━━━━━━━━\u001b[0m\u001b[37m\u001b[0m \u001b[1m0s\u001b[0m 724us/step - accuracy: 1.0000 - loss: 0.0475 - mae: 0.1708 - mse: 0.0475 - val_accuracy: 1.0000 - val_loss: 0.0531 - val_mae: 0.2068 - val_mse: 0.0531\n",
      "Epoch 6/100\n",
      "\u001b[1m344/344\u001b[0m \u001b[32m━━━━━━━━━━━━━━━━━━━━\u001b[0m\u001b[37m\u001b[0m \u001b[1m0s\u001b[0m 721us/step - accuracy: 1.0000 - loss: 0.0394 - mae: 0.1554 - mse: 0.0394 - val_accuracy: 1.0000 - val_loss: 0.0181 - val_mae: 0.1086 - val_mse: 0.0181\n",
      "Epoch 7/100\n",
      "\u001b[1m344/344\u001b[0m \u001b[32m━━━━━━━━━━━━━━━━━━━━\u001b[0m\u001b[37m\u001b[0m \u001b[1m0s\u001b[0m 729us/step - accuracy: 1.0000 - loss: 0.0281 - mae: 0.1307 - mse: 0.0281 - val_accuracy: 1.0000 - val_loss: 0.0071 - val_mae: 0.0582 - val_mse: 0.0071\n",
      "Epoch 8/100\n",
      "\u001b[1m344/344\u001b[0m \u001b[32m━━━━━━━━━━━━━━━━━━━━\u001b[0m\u001b[37m\u001b[0m \u001b[1m0s\u001b[0m 760us/step - accuracy: 1.0000 - loss: 0.0193 - mae: 0.1069 - mse: 0.0193 - val_accuracy: 1.0000 - val_loss: 0.0069 - val_mae: 0.0556 - val_mse: 0.0069\n",
      "Epoch 9/100\n",
      "\u001b[1m344/344\u001b[0m \u001b[32m━━━━━━━━━━━━━━━━━━━━\u001b[0m\u001b[37m\u001b[0m \u001b[1m0s\u001b[0m 752us/step - accuracy: 1.0000 - loss: 0.0170 - mae: 0.0995 - mse: 0.0170 - val_accuracy: 1.0000 - val_loss: 0.0068 - val_mae: 0.0542 - val_mse: 0.0068\n",
      "Epoch 10/100\n",
      "\u001b[1m344/344\u001b[0m \u001b[32m━━━━━━━━━━━━━━━━━━━━\u001b[0m\u001b[37m\u001b[0m \u001b[1m0s\u001b[0m 717us/step - accuracy: 1.0000 - loss: 0.0156 - mae: 0.0950 - mse: 0.0156 - val_accuracy: 1.0000 - val_loss: 0.0068 - val_mae: 0.0541 - val_mse: 0.0068\n",
      "Epoch 11/100\n",
      "\u001b[1m344/344\u001b[0m \u001b[32m━━━━━━━━━━━━━━━━━━━━\u001b[0m\u001b[37m\u001b[0m \u001b[1m0s\u001b[0m 728us/step - accuracy: 1.0000 - loss: 0.0147 - mae: 0.0917 - mse: 0.0147 - val_accuracy: 1.0000 - val_loss: 0.0068 - val_mae: 0.0538 - val_mse: 0.0068\n",
      "Epoch 12/100\n",
      "\u001b[1m344/344\u001b[0m \u001b[32m━━━━━━━━━━━━━━━━━━━━\u001b[0m\u001b[37m\u001b[0m \u001b[1m0s\u001b[0m 728us/step - accuracy: 1.0000 - loss: 0.0141 - mae: 0.0896 - mse: 0.0141 - val_accuracy: 1.0000 - val_loss: 0.0066 - val_mae: 0.0533 - val_mse: 0.0066\n",
      "Epoch 13/100\n",
      "\u001b[1m344/344\u001b[0m \u001b[32m━━━━━━━━━━━━━━━━━━━━\u001b[0m\u001b[37m\u001b[0m \u001b[1m0s\u001b[0m 709us/step - accuracy: 1.0000 - loss: 0.0135 - mae: 0.0873 - mse: 0.0135 - val_accuracy: 1.0000 - val_loss: 0.0067 - val_mae: 0.0537 - val_mse: 0.0067\n",
      "Epoch 14/100\n",
      "\u001b[1m344/344\u001b[0m \u001b[32m━━━━━━━━━━━━━━━━━━━━\u001b[0m\u001b[37m\u001b[0m \u001b[1m0s\u001b[0m 692us/step - accuracy: 1.0000 - loss: 0.0128 - mae: 0.0846 - mse: 0.0128 - val_accuracy: 1.0000 - val_loss: 0.0067 - val_mae: 0.0529 - val_mse: 0.0067\n",
      "Epoch 15/100\n",
      "\u001b[1m344/344\u001b[0m \u001b[32m━━━━━━━━━━━━━━━━━━━━\u001b[0m\u001b[37m\u001b[0m \u001b[1m0s\u001b[0m 685us/step - accuracy: 1.0000 - loss: 0.0120 - mae: 0.0814 - mse: 0.0120 - val_accuracy: 1.0000 - val_loss: 0.0067 - val_mae: 0.0533 - val_mse: 0.0067\n",
      "Epoch 16/100\n",
      "\u001b[1m344/344\u001b[0m \u001b[32m━━━━━━━━━━━━━━━━━━━━\u001b[0m\u001b[37m\u001b[0m \u001b[1m0s\u001b[0m 675us/step - accuracy: 1.0000 - loss: 0.0116 - mae: 0.0794 - mse: 0.0116 - val_accuracy: 1.0000 - val_loss: 0.0066 - val_mae: 0.0528 - val_mse: 0.0066\n",
      "Epoch 17/100\n",
      "\u001b[1m344/344\u001b[0m \u001b[32m━━━━━━━━━━━━━━━━━━━━\u001b[0m\u001b[37m\u001b[0m \u001b[1m0s\u001b[0m 675us/step - accuracy: 1.0000 - loss: 0.0110 - mae: 0.0769 - mse: 0.0110 - val_accuracy: 1.0000 - val_loss: 0.0066 - val_mae: 0.0528 - val_mse: 0.0066\n",
      "Epoch 18/100\n",
      "\u001b[1m344/344\u001b[0m \u001b[32m━━━━━━━━━━━━━━━━━━━━\u001b[0m\u001b[37m\u001b[0m \u001b[1m0s\u001b[0m 678us/step - accuracy: 1.0000 - loss: 0.0104 - mae: 0.0740 - mse: 0.0104 - val_accuracy: 1.0000 - val_loss: 0.0065 - val_mae: 0.0529 - val_mse: 0.0065\n",
      "Epoch 19/100\n",
      "\u001b[1m344/344\u001b[0m \u001b[32m━━━━━━━━━━━━━━━━━━━━\u001b[0m\u001b[37m\u001b[0m \u001b[1m0s\u001b[0m 679us/step - accuracy: 1.0000 - loss: 0.0098 - mae: 0.0711 - mse: 0.0098 - val_accuracy: 1.0000 - val_loss: 0.0065 - val_mae: 0.0532 - val_mse: 0.0065\n",
      "Epoch 20/100\n",
      "\u001b[1m344/344\u001b[0m \u001b[32m━━━━━━━━━━━━━━━━━━━━\u001b[0m\u001b[37m\u001b[0m \u001b[1m0s\u001b[0m 676us/step - accuracy: 1.0000 - loss: 0.0094 - mae: 0.0692 - mse: 0.0094 - val_accuracy: 1.0000 - val_loss: 0.0064 - val_mae: 0.0522 - val_mse: 0.0064\n",
      "Epoch 21/100\n",
      "\u001b[1m344/344\u001b[0m \u001b[32m━━━━━━━━━━━━━━━━━━━━\u001b[0m\u001b[37m\u001b[0m \u001b[1m0s\u001b[0m 679us/step - accuracy: 1.0000 - loss: 0.0089 - mae: 0.0665 - mse: 0.0089 - val_accuracy: 1.0000 - val_loss: 0.0063 - val_mae: 0.0518 - val_mse: 0.0063\n",
      "Epoch 22/100\n",
      "\u001b[1m344/344\u001b[0m \u001b[32m━━━━━━━━━━━━━━━━━━━━\u001b[0m\u001b[37m\u001b[0m \u001b[1m0s\u001b[0m 680us/step - accuracy: 1.0000 - loss: 0.0085 - mae: 0.0646 - mse: 0.0085 - val_accuracy: 1.0000 - val_loss: 0.0063 - val_mae: 0.0520 - val_mse: 0.0063\n",
      "Epoch 23/100\n",
      "\u001b[1m344/344\u001b[0m \u001b[32m━━━━━━━━━━━━━━━━━━━━\u001b[0m\u001b[37m\u001b[0m \u001b[1m0s\u001b[0m 684us/step - accuracy: 1.0000 - loss: 0.0081 - mae: 0.0621 - mse: 0.0081 - val_accuracy: 1.0000 - val_loss: 0.0063 - val_mae: 0.0520 - val_mse: 0.0063\n",
      "Epoch 24/100\n",
      "\u001b[1m344/344\u001b[0m \u001b[32m━━━━━━━━━━━━━━━━━━━━\u001b[0m\u001b[37m\u001b[0m \u001b[1m0s\u001b[0m 677us/step - accuracy: 1.0000 - loss: 0.0077 - mae: 0.0599 - mse: 0.0077 - val_accuracy: 1.0000 - val_loss: 0.0061 - val_mae: 0.0505 - val_mse: 0.0061\n",
      "Epoch 25/100\n",
      "\u001b[1m344/344\u001b[0m \u001b[32m━━━━━━━━━━━━━━━━━━━━\u001b[0m\u001b[37m\u001b[0m \u001b[1m0s\u001b[0m 683us/step - accuracy: 1.0000 - loss: 0.0075 - mae: 0.0583 - mse: 0.0075 - val_accuracy: 1.0000 - val_loss: 0.0059 - val_mae: 0.0501 - val_mse: 0.0059\n",
      "Epoch 26/100\n",
      "\u001b[1m344/344\u001b[0m \u001b[32m━━━━━━━━━━━━━━━━━━━━\u001b[0m\u001b[37m\u001b[0m \u001b[1m0s\u001b[0m 696us/step - accuracy: 1.0000 - loss: 0.0072 - mae: 0.0567 - mse: 0.0072 - val_accuracy: 1.0000 - val_loss: 0.0060 - val_mae: 0.0504 - val_mse: 0.0060\n",
      "Epoch 27/100\n",
      "\u001b[1m344/344\u001b[0m \u001b[32m━━━━━━━━━━━━━━━━━━━━\u001b[0m\u001b[37m\u001b[0m \u001b[1m0s\u001b[0m 707us/step - accuracy: 1.0000 - loss: 0.0070 - mae: 0.0552 - mse: 0.0070 - val_accuracy: 1.0000 - val_loss: 0.0059 - val_mae: 0.0500 - val_mse: 0.0059\n",
      "Epoch 28/100\n",
      "\u001b[1m344/344\u001b[0m \u001b[32m━━━━━━━━━━━━━━━━━━━━\u001b[0m\u001b[37m\u001b[0m \u001b[1m0s\u001b[0m 690us/step - accuracy: 1.0000 - loss: 0.0067 - mae: 0.0540 - mse: 0.0067 - val_accuracy: 1.0000 - val_loss: 0.0059 - val_mae: 0.0502 - val_mse: 0.0059\n",
      "Epoch 29/100\n",
      "\u001b[1m344/344\u001b[0m \u001b[32m━━━━━━━━━━━━━━━━━━━━\u001b[0m\u001b[37m\u001b[0m \u001b[1m0s\u001b[0m 680us/step - accuracy: 1.0000 - loss: 0.0066 - mae: 0.0532 - mse: 0.0066 - val_accuracy: 1.0000 - val_loss: 0.0056 - val_mae: 0.0489 - val_mse: 0.0056\n",
      "Epoch 30/100\n",
      "\u001b[1m344/344\u001b[0m \u001b[32m━━━━━━━━━━━━━━━━━━━━\u001b[0m\u001b[37m\u001b[0m \u001b[1m0s\u001b[0m 690us/step - accuracy: 1.0000 - loss: 0.0063 - mae: 0.0516 - mse: 0.0063 - val_accuracy: 1.0000 - val_loss: 0.0056 - val_mae: 0.0490 - val_mse: 0.0056\n",
      "Epoch 31/100\n",
      "\u001b[1m344/344\u001b[0m \u001b[32m━━━━━━━━━━━━━━━━━━━━\u001b[0m\u001b[37m\u001b[0m \u001b[1m0s\u001b[0m 689us/step - accuracy: 1.0000 - loss: 0.0062 - mae: 0.0507 - mse: 0.0062 - val_accuracy: 1.0000 - val_loss: 0.0055 - val_mae: 0.0482 - val_mse: 0.0055\n",
      "Epoch 32/100\n",
      "\u001b[1m344/344\u001b[0m \u001b[32m━━━━━━━━━━━━━━━━━━━━\u001b[0m\u001b[37m\u001b[0m \u001b[1m0s\u001b[0m 702us/step - accuracy: 1.0000 - loss: 0.0060 - mae: 0.0498 - mse: 0.0060 - val_accuracy: 1.0000 - val_loss: 0.0054 - val_mae: 0.0478 - val_mse: 0.0054\n",
      "Epoch 33/100\n",
      "\u001b[1m344/344\u001b[0m \u001b[32m━━━━━━━━━━━━━━━━━━━━\u001b[0m\u001b[37m\u001b[0m \u001b[1m0s\u001b[0m 681us/step - accuracy: 1.0000 - loss: 0.0059 - mae: 0.0492 - mse: 0.0059 - val_accuracy: 1.0000 - val_loss: 0.0053 - val_mae: 0.0476 - val_mse: 0.0053\n",
      "Epoch 34/100\n",
      "\u001b[1m344/344\u001b[0m \u001b[32m━━━━━━━━━━━━━━━━━━━━\u001b[0m\u001b[37m\u001b[0m \u001b[1m0s\u001b[0m 684us/step - accuracy: 1.0000 - loss: 0.0056 - mae: 0.0482 - mse: 0.0056 - val_accuracy: 1.0000 - val_loss: 0.0053 - val_mae: 0.0471 - val_mse: 0.0053\n",
      "Epoch 35/100\n",
      "\u001b[1m344/344\u001b[0m \u001b[32m━━━━━━━━━━━━━━━━━━━━\u001b[0m\u001b[37m\u001b[0m \u001b[1m0s\u001b[0m 688us/step - accuracy: 1.0000 - loss: 0.0055 - mae: 0.0479 - mse: 0.0055 - val_accuracy: 1.0000 - val_loss: 0.0050 - val_mae: 0.0460 - val_mse: 0.0050\n",
      "Epoch 36/100\n",
      "\u001b[1m344/344\u001b[0m \u001b[32m━━━━━━━━━━━━━━━━━━━━\u001b[0m\u001b[37m\u001b[0m \u001b[1m0s\u001b[0m 692us/step - accuracy: 1.0000 - loss: 0.0054 - mae: 0.0471 - mse: 0.0054 - val_accuracy: 1.0000 - val_loss: 0.0050 - val_mae: 0.0459 - val_mse: 0.0050\n",
      "Epoch 37/100\n",
      "\u001b[1m344/344\u001b[0m \u001b[32m━━━━━━━━━━━━━━━━━━━━\u001b[0m\u001b[37m\u001b[0m \u001b[1m0s\u001b[0m 700us/step - accuracy: 1.0000 - loss: 0.0053 - mae: 0.0467 - mse: 0.0053 - val_accuracy: 1.0000 - val_loss: 0.0049 - val_mae: 0.0453 - val_mse: 0.0049\n",
      "Epoch 38/100\n",
      "\u001b[1m344/344\u001b[0m \u001b[32m━━━━━━━━━━━━━━━━━━━━\u001b[0m\u001b[37m\u001b[0m \u001b[1m0s\u001b[0m 704us/step - accuracy: 1.0000 - loss: 0.0053 - mae: 0.0466 - mse: 0.0053 - val_accuracy: 1.0000 - val_loss: 0.0050 - val_mae: 0.0456 - val_mse: 0.0050\n",
      "Epoch 39/100\n",
      "\u001b[1m344/344\u001b[0m \u001b[32m━━━━━━━━━━━━━━━━━━━━\u001b[0m\u001b[37m\u001b[0m \u001b[1m0s\u001b[0m 691us/step - accuracy: 1.0000 - loss: 0.0050 - mae: 0.0453 - mse: 0.0050 - val_accuracy: 1.0000 - val_loss: 0.0047 - val_mae: 0.0446 - val_mse: 0.0047\n",
      "Epoch 40/100\n",
      "\u001b[1m344/344\u001b[0m \u001b[32m━━━━━━━━━━━━━━━━━━━━\u001b[0m\u001b[37m\u001b[0m \u001b[1m0s\u001b[0m 693us/step - accuracy: 1.0000 - loss: 0.0050 - mae: 0.0453 - mse: 0.0050 - val_accuracy: 1.0000 - val_loss: 0.0047 - val_mae: 0.0448 - val_mse: 0.0047\n",
      "Epoch 41/100\n",
      "\u001b[1m344/344\u001b[0m \u001b[32m━━━━━━━━━━━━━━━━━━━━\u001b[0m\u001b[37m\u001b[0m \u001b[1m0s\u001b[0m 699us/step - accuracy: 1.0000 - loss: 0.0048 - mae: 0.0448 - mse: 0.0048 - val_accuracy: 1.0000 - val_loss: 0.0046 - val_mae: 0.0440 - val_mse: 0.0046\n",
      "Epoch 42/100\n",
      "\u001b[1m344/344\u001b[0m \u001b[32m━━━━━━━━━━━━━━━━━━━━\u001b[0m\u001b[37m\u001b[0m \u001b[1m0s\u001b[0m 689us/step - accuracy: 1.0000 - loss: 0.0046 - mae: 0.0441 - mse: 0.0046 - val_accuracy: 1.0000 - val_loss: 0.0046 - val_mae: 0.0439 - val_mse: 0.0046\n",
      "Epoch 43/100\n",
      "\u001b[1m344/344\u001b[0m \u001b[32m━━━━━━━━━━━━━━━━━━━━\u001b[0m\u001b[37m\u001b[0m \u001b[1m0s\u001b[0m 687us/step - accuracy: 1.0000 - loss: 0.0046 - mae: 0.0438 - mse: 0.0046 - val_accuracy: 1.0000 - val_loss: 0.0044 - val_mae: 0.0434 - val_mse: 0.0044\n",
      "Epoch 44/100\n",
      "\u001b[1m344/344\u001b[0m \u001b[32m━━━━━━━━━━━━━━━━━━━━\u001b[0m\u001b[37m\u001b[0m \u001b[1m0s\u001b[0m 695us/step - accuracy: 1.0000 - loss: 0.0045 - mae: 0.0433 - mse: 0.0045 - val_accuracy: 1.0000 - val_loss: 0.0044 - val_mae: 0.0430 - val_mse: 0.0044\n",
      "Epoch 45/100\n",
      "\u001b[1m344/344\u001b[0m \u001b[32m━━━━━━━━━━━━━━━━━━━━\u001b[0m\u001b[37m\u001b[0m \u001b[1m0s\u001b[0m 689us/step - accuracy: 1.0000 - loss: 0.0046 - mae: 0.0435 - mse: 0.0046 - val_accuracy: 1.0000 - val_loss: 0.0045 - val_mae: 0.0432 - val_mse: 0.0045\n",
      "Epoch 46/100\n",
      "\u001b[1m344/344\u001b[0m \u001b[32m━━━━━━━━━━━━━━━━━━━━\u001b[0m\u001b[37m\u001b[0m \u001b[1m0s\u001b[0m 705us/step - accuracy: 1.0000 - loss: 0.0043 - mae: 0.0426 - mse: 0.0043 - val_accuracy: 1.0000 - val_loss: 0.0042 - val_mae: 0.0421 - val_mse: 0.0042\n",
      "Epoch 47/100\n",
      "\u001b[1m344/344\u001b[0m \u001b[32m━━━━━━━━━━━━━━━━━━━━\u001b[0m\u001b[37m\u001b[0m \u001b[1m0s\u001b[0m 710us/step - accuracy: 1.0000 - loss: 0.0043 - mae: 0.0424 - mse: 0.0043 - val_accuracy: 1.0000 - val_loss: 0.0041 - val_mae: 0.0416 - val_mse: 0.0041\n",
      "Epoch 48/100\n",
      "\u001b[1m344/344\u001b[0m \u001b[32m━━━━━━━━━━━━━━━━━━━━\u001b[0m\u001b[37m\u001b[0m \u001b[1m0s\u001b[0m 707us/step - accuracy: 1.0000 - loss: 0.0042 - mae: 0.0419 - mse: 0.0042 - val_accuracy: 1.0000 - val_loss: 0.0040 - val_mae: 0.0410 - val_mse: 0.0040\n",
      "Epoch 49/100\n",
      "\u001b[1m344/344\u001b[0m \u001b[32m━━━━━━━━━━━━━━━━━━━━\u001b[0m\u001b[37m\u001b[0m \u001b[1m0s\u001b[0m 713us/step - accuracy: 1.0000 - loss: 0.0041 - mae: 0.0412 - mse: 0.0041 - val_accuracy: 1.0000 - val_loss: 0.0041 - val_mae: 0.0419 - val_mse: 0.0041\n",
      "Epoch 50/100\n",
      "\u001b[1m344/344\u001b[0m \u001b[32m━━━━━━━━━━━━━━━━━━━━\u001b[0m\u001b[37m\u001b[0m \u001b[1m0s\u001b[0m 701us/step - accuracy: 1.0000 - loss: 0.0041 - mae: 0.0412 - mse: 0.0041 - val_accuracy: 1.0000 - val_loss: 0.0038 - val_mae: 0.0409 - val_mse: 0.0038\n",
      "Epoch 51/100\n",
      "\u001b[1m344/344\u001b[0m \u001b[32m━━━━━━━━━━━━━━━━━━━━\u001b[0m\u001b[37m\u001b[0m \u001b[1m0s\u001b[0m 686us/step - accuracy: 1.0000 - loss: 0.0040 - mae: 0.0410 - mse: 0.0040 - val_accuracy: 1.0000 - val_loss: 0.0039 - val_mae: 0.0408 - val_mse: 0.0039\n",
      "Epoch 52/100\n",
      "\u001b[1m344/344\u001b[0m \u001b[32m━━━━━━━━━━━━━━━━━━━━\u001b[0m\u001b[37m\u001b[0m \u001b[1m0s\u001b[0m 697us/step - accuracy: 1.0000 - loss: 0.0039 - mae: 0.0404 - mse: 0.0039 - val_accuracy: 1.0000 - val_loss: 0.0038 - val_mae: 0.0400 - val_mse: 0.0038\n",
      "Epoch 53/100\n",
      "\u001b[1m344/344\u001b[0m \u001b[32m━━━━━━━━━━━━━━━━━━━━\u001b[0m\u001b[37m\u001b[0m \u001b[1m0s\u001b[0m 699us/step - accuracy: 1.0000 - loss: 0.0038 - mae: 0.0401 - mse: 0.0038 - val_accuracy: 1.0000 - val_loss: 0.0038 - val_mae: 0.0398 - val_mse: 0.0038\n",
      "Epoch 54/100\n",
      "\u001b[1m344/344\u001b[0m \u001b[32m━━━━━━━━━━━━━━━━━━━━\u001b[0m\u001b[37m\u001b[0m \u001b[1m0s\u001b[0m 690us/step - accuracy: 1.0000 - loss: 0.0037 - mae: 0.0395 - mse: 0.0037 - val_accuracy: 1.0000 - val_loss: 0.0035 - val_mae: 0.0384 - val_mse: 0.0035\n",
      "Epoch 55/100\n",
      "\u001b[1m344/344\u001b[0m \u001b[32m━━━━━━━━━━━━━━━━━━━━\u001b[0m\u001b[37m\u001b[0m \u001b[1m0s\u001b[0m 690us/step - accuracy: 1.0000 - loss: 0.0037 - mae: 0.0395 - mse: 0.0037 - val_accuracy: 1.0000 - val_loss: 0.0036 - val_mae: 0.0391 - val_mse: 0.0036\n",
      "Epoch 56/100\n",
      "\u001b[1m344/344\u001b[0m \u001b[32m━━━━━━━━━━━━━━━━━━━━\u001b[0m\u001b[37m\u001b[0m \u001b[1m0s\u001b[0m 698us/step - accuracy: 1.0000 - loss: 0.0037 - mae: 0.0390 - mse: 0.0037 - val_accuracy: 1.0000 - val_loss: 0.0035 - val_mae: 0.0383 - val_mse: 0.0035\n",
      "Epoch 57/100\n",
      "\u001b[1m344/344\u001b[0m \u001b[32m━━━━━━━━━━━━━━━━━━━━\u001b[0m\u001b[37m\u001b[0m \u001b[1m0s\u001b[0m 702us/step - accuracy: 1.0000 - loss: 0.0035 - mae: 0.0380 - mse: 0.0035 - val_accuracy: 1.0000 - val_loss: 0.0034 - val_mae: 0.0377 - val_mse: 0.0034\n",
      "Epoch 58/100\n",
      "\u001b[1m344/344\u001b[0m \u001b[32m━━━━━━━━━━━━━━━━━━━━\u001b[0m\u001b[37m\u001b[0m \u001b[1m0s\u001b[0m 705us/step - accuracy: 1.0000 - loss: 0.0035 - mae: 0.0379 - mse: 0.0035 - val_accuracy: 1.0000 - val_loss: 0.0033 - val_mae: 0.0375 - val_mse: 0.0033\n",
      "Epoch 59/100\n",
      "\u001b[1m344/344\u001b[0m \u001b[32m━━━━━━━━━━━━━━━━━━━━\u001b[0m\u001b[37m\u001b[0m \u001b[1m0s\u001b[0m 691us/step - accuracy: 1.0000 - loss: 0.0034 - mae: 0.0380 - mse: 0.0034 - val_accuracy: 1.0000 - val_loss: 0.0031 - val_mae: 0.0361 - val_mse: 0.0031\n",
      "Epoch 60/100\n",
      "\u001b[1m344/344\u001b[0m \u001b[32m━━━━━━━━━━━━━━━━━━━━\u001b[0m\u001b[37m\u001b[0m \u001b[1m0s\u001b[0m 695us/step - accuracy: 1.0000 - loss: 0.0033 - mae: 0.0373 - mse: 0.0033 - val_accuracy: 1.0000 - val_loss: 0.0031 - val_mae: 0.0362 - val_mse: 0.0031\n",
      "Epoch 61/100\n",
      "\u001b[1m344/344\u001b[0m \u001b[32m━━━━━━━━━━━━━━━━━━━━\u001b[0m\u001b[37m\u001b[0m \u001b[1m0s\u001b[0m 691us/step - accuracy: 1.0000 - loss: 0.0033 - mae: 0.0369 - mse: 0.0033 - val_accuracy: 1.0000 - val_loss: 0.0030 - val_mae: 0.0354 - val_mse: 0.0030\n",
      "Epoch 62/100\n",
      "\u001b[1m344/344\u001b[0m \u001b[32m━━━━━━━━━━━━━━━━━━━━\u001b[0m\u001b[37m\u001b[0m \u001b[1m0s\u001b[0m 697us/step - accuracy: 1.0000 - loss: 0.0032 - mae: 0.0365 - mse: 0.0032 - val_accuracy: 1.0000 - val_loss: 0.0031 - val_mae: 0.0356 - val_mse: 0.0031\n",
      "Epoch 63/100\n",
      "\u001b[1m344/344\u001b[0m \u001b[32m━━━━━━━━━━━━━━━━━━━━\u001b[0m\u001b[37m\u001b[0m \u001b[1m0s\u001b[0m 694us/step - accuracy: 1.0000 - loss: 0.0032 - mae: 0.0364 - mse: 0.0032 - val_accuracy: 1.0000 - val_loss: 0.0030 - val_mae: 0.0352 - val_mse: 0.0030\n",
      "Epoch 64/100\n",
      "\u001b[1m344/344\u001b[0m \u001b[32m━━━━━━━━━━━━━━━━━━━━\u001b[0m\u001b[37m\u001b[0m \u001b[1m0s\u001b[0m 714us/step - accuracy: 1.0000 - loss: 0.0031 - mae: 0.0359 - mse: 0.0031 - val_accuracy: 1.0000 - val_loss: 0.0029 - val_mae: 0.0350 - val_mse: 0.0029\n",
      "Epoch 65/100\n",
      "\u001b[1m344/344\u001b[0m \u001b[32m━━━━━━━━━━━━━━━━━━━━\u001b[0m\u001b[37m\u001b[0m \u001b[1m0s\u001b[0m 713us/step - accuracy: 1.0000 - loss: 0.0032 - mae: 0.0365 - mse: 0.0032 - val_accuracy: 1.0000 - val_loss: 0.0030 - val_mae: 0.0355 - val_mse: 0.0030\n",
      "Epoch 66/100\n",
      "\u001b[1m344/344\u001b[0m \u001b[32m━━━━━━━━━━━━━━━━━━━━\u001b[0m\u001b[37m\u001b[0m \u001b[1m0s\u001b[0m 715us/step - accuracy: 1.0000 - loss: 0.0031 - mae: 0.0358 - mse: 0.0031 - val_accuracy: 1.0000 - val_loss: 0.0028 - val_mae: 0.0344 - val_mse: 0.0028\n",
      "Epoch 67/100\n",
      "\u001b[1m344/344\u001b[0m \u001b[32m━━━━━━━━━━━━━━━━━━━━\u001b[0m\u001b[37m\u001b[0m \u001b[1m0s\u001b[0m 718us/step - accuracy: 1.0000 - loss: 0.0030 - mae: 0.0352 - mse: 0.0030 - val_accuracy: 1.0000 - val_loss: 0.0027 - val_mae: 0.0340 - val_mse: 0.0027\n",
      "Epoch 68/100\n",
      "\u001b[1m344/344\u001b[0m \u001b[32m━━━━━━━━━━━━━━━━━━━━\u001b[0m\u001b[37m\u001b[0m \u001b[1m0s\u001b[0m 709us/step - accuracy: 1.0000 - loss: 0.0029 - mae: 0.0347 - mse: 0.0029 - val_accuracy: 1.0000 - val_loss: 0.0027 - val_mae: 0.0336 - val_mse: 0.0027\n",
      "Epoch 69/100\n",
      "\u001b[1m344/344\u001b[0m \u001b[32m━━━━━━━━━━━━━━━━━━━━\u001b[0m\u001b[37m\u001b[0m \u001b[1m0s\u001b[0m 698us/step - accuracy: 1.0000 - loss: 0.0028 - mae: 0.0338 - mse: 0.0028 - val_accuracy: 1.0000 - val_loss: 0.0028 - val_mae: 0.0339 - val_mse: 0.0028\n",
      "Epoch 70/100\n",
      "\u001b[1m344/344\u001b[0m \u001b[32m━━━━━━━━━━━━━━━━━━━━\u001b[0m\u001b[37m\u001b[0m \u001b[1m0s\u001b[0m 698us/step - accuracy: 1.0000 - loss: 0.0029 - mae: 0.0344 - mse: 0.0029 - val_accuracy: 1.0000 - val_loss: 0.0027 - val_mae: 0.0333 - val_mse: 0.0027\n",
      "Epoch 71/100\n",
      "\u001b[1m344/344\u001b[0m \u001b[32m━━━━━━━━━━━━━━━━━━━━\u001b[0m\u001b[37m\u001b[0m \u001b[1m0s\u001b[0m 690us/step - accuracy: 1.0000 - loss: 0.0028 - mae: 0.0339 - mse: 0.0028 - val_accuracy: 1.0000 - val_loss: 0.0026 - val_mae: 0.0332 - val_mse: 0.0026\n",
      "Epoch 72/100\n",
      "\u001b[1m344/344\u001b[0m \u001b[32m━━━━━━━━━━━━━━━━━━━━\u001b[0m\u001b[37m\u001b[0m \u001b[1m0s\u001b[0m 695us/step - accuracy: 1.0000 - loss: 0.0028 - mae: 0.0333 - mse: 0.0028 - val_accuracy: 1.0000 - val_loss: 0.0025 - val_mae: 0.0320 - val_mse: 0.0025\n",
      "Epoch 73/100\n",
      "\u001b[1m344/344\u001b[0m \u001b[32m━━━━━━━━━━━━━━━━━━━━\u001b[0m\u001b[37m\u001b[0m \u001b[1m0s\u001b[0m 719us/step - accuracy: 1.0000 - loss: 0.0027 - mae: 0.0331 - mse: 0.0027 - val_accuracy: 1.0000 - val_loss: 0.0025 - val_mae: 0.0318 - val_mse: 0.0025\n",
      "Epoch 74/100\n",
      "\u001b[1m344/344\u001b[0m \u001b[32m━━━━━━━━━━━━━━━━━━━━\u001b[0m\u001b[37m\u001b[0m \u001b[1m0s\u001b[0m 697us/step - accuracy: 1.0000 - loss: 0.0026 - mae: 0.0325 - mse: 0.0026 - val_accuracy: 1.0000 - val_loss: 0.0024 - val_mae: 0.0315 - val_mse: 0.0024\n",
      "Epoch 75/100\n",
      "\u001b[1m344/344\u001b[0m \u001b[32m━━━━━━━━━━━━━━━━━━━━\u001b[0m\u001b[37m\u001b[0m \u001b[1m0s\u001b[0m 693us/step - accuracy: 1.0000 - loss: 0.0026 - mae: 0.0323 - mse: 0.0026 - val_accuracy: 1.0000 - val_loss: 0.0026 - val_mae: 0.0338 - val_mse: 0.0026\n",
      "Epoch 76/100\n",
      "\u001b[1m344/344\u001b[0m \u001b[32m━━━━━━━━━━━━━━━━━━━━\u001b[0m\u001b[37m\u001b[0m \u001b[1m0s\u001b[0m 715us/step - accuracy: 1.0000 - loss: 0.0024 - mae: 0.0316 - mse: 0.0024 - val_accuracy: 1.0000 - val_loss: 0.0023 - val_mae: 0.0308 - val_mse: 0.0023\n",
      "Epoch 77/100\n",
      "\u001b[1m344/344\u001b[0m \u001b[32m━━━━━━━━━━━━━━━━━━━━\u001b[0m\u001b[37m\u001b[0m \u001b[1m0s\u001b[0m 734us/step - accuracy: 1.0000 - loss: 0.0024 - mae: 0.0315 - mse: 0.0024 - val_accuracy: 1.0000 - val_loss: 0.0026 - val_mae: 0.0329 - val_mse: 0.0026\n",
      "Epoch 78/100\n",
      "\u001b[1m344/344\u001b[0m \u001b[32m━━━━━━━━━━━━━━━━━━━━\u001b[0m\u001b[37m\u001b[0m \u001b[1m0s\u001b[0m 719us/step - accuracy: 1.0000 - loss: 0.0024 - mae: 0.0314 - mse: 0.0024 - val_accuracy: 1.0000 - val_loss: 0.0023 - val_mae: 0.0310 - val_mse: 0.0023\n",
      "Epoch 79/100\n",
      "\u001b[1m344/344\u001b[0m \u001b[32m━━━━━━━━━━━━━━━━━━━━\u001b[0m\u001b[37m\u001b[0m \u001b[1m0s\u001b[0m 715us/step - accuracy: 1.0000 - loss: 0.0024 - mae: 0.0311 - mse: 0.0024 - val_accuracy: 1.0000 - val_loss: 0.0022 - val_mae: 0.0302 - val_mse: 0.0022\n",
      "Epoch 80/100\n",
      "\u001b[1m344/344\u001b[0m \u001b[32m━━━━━━━━━━━━━━━━━━━━\u001b[0m\u001b[37m\u001b[0m \u001b[1m0s\u001b[0m 708us/step - accuracy: 1.0000 - loss: 0.0023 - mae: 0.0307 - mse: 0.0023 - val_accuracy: 1.0000 - val_loss: 0.0021 - val_mae: 0.0297 - val_mse: 0.0021\n",
      "Epoch 81/100\n",
      "\u001b[1m344/344\u001b[0m \u001b[32m━━━━━━━━━━━━━━━━━━━━\u001b[0m\u001b[37m\u001b[0m \u001b[1m0s\u001b[0m 725us/step - accuracy: 1.0000 - loss: 0.0023 - mae: 0.0308 - mse: 0.0023 - val_accuracy: 1.0000 - val_loss: 0.0022 - val_mae: 0.0304 - val_mse: 0.0022\n",
      "Epoch 82/100\n",
      "\u001b[1m344/344\u001b[0m \u001b[32m━━━━━━━━━━━━━━━━━━━━\u001b[0m\u001b[37m\u001b[0m \u001b[1m0s\u001b[0m 726us/step - accuracy: 1.0000 - loss: 0.0023 - mae: 0.0304 - mse: 0.0023 - val_accuracy: 1.0000 - val_loss: 0.0022 - val_mae: 0.0303 - val_mse: 0.0022\n",
      "Epoch 83/100\n",
      "\u001b[1m344/344\u001b[0m \u001b[32m━━━━━━━━━━━━━━━━━━━━\u001b[0m\u001b[37m\u001b[0m \u001b[1m0s\u001b[0m 731us/step - accuracy: 1.0000 - loss: 0.0022 - mae: 0.0300 - mse: 0.0022 - val_accuracy: 1.0000 - val_loss: 0.0021 - val_mae: 0.0297 - val_mse: 0.0021\n",
      "Epoch 84/100\n",
      "\u001b[1m344/344\u001b[0m \u001b[32m━━━━━━━━━━━━━━━━━━━━\u001b[0m\u001b[37m\u001b[0m \u001b[1m0s\u001b[0m 730us/step - accuracy: 1.0000 - loss: 0.0022 - mae: 0.0300 - mse: 0.0022 - val_accuracy: 1.0000 - val_loss: 0.0022 - val_mae: 0.0301 - val_mse: 0.0022\n",
      "Epoch 85/100\n",
      "\u001b[1m344/344\u001b[0m \u001b[32m━━━━━━━━━━━━━━━━━━━━\u001b[0m\u001b[37m\u001b[0m \u001b[1m0s\u001b[0m 726us/step - accuracy: 1.0000 - loss: 0.0023 - mae: 0.0300 - mse: 0.0023 - val_accuracy: 1.0000 - val_loss: 0.0021 - val_mae: 0.0298 - val_mse: 0.0021\n",
      "Epoch 86/100\n",
      "\u001b[1m344/344\u001b[0m \u001b[32m━━━━━━━━━━━━━━━━━━━━\u001b[0m\u001b[37m\u001b[0m \u001b[1m0s\u001b[0m 735us/step - accuracy: 1.0000 - loss: 0.0021 - mae: 0.0295 - mse: 0.0021 - val_accuracy: 1.0000 - val_loss: 0.0021 - val_mae: 0.0299 - val_mse: 0.0021\n",
      "Epoch 87/100\n",
      "\u001b[1m344/344\u001b[0m \u001b[32m━━━━━━━━━━━━━━━━━━━━\u001b[0m\u001b[37m\u001b[0m \u001b[1m0s\u001b[0m 722us/step - accuracy: 1.0000 - loss: 0.0021 - mae: 0.0292 - mse: 0.0021 - val_accuracy: 1.0000 - val_loss: 0.0023 - val_mae: 0.0305 - val_mse: 0.0023\n",
      "Epoch 88/100\n",
      "\u001b[1m344/344\u001b[0m \u001b[32m━━━━━━━━━━━━━━━━━━━━\u001b[0m\u001b[37m\u001b[0m \u001b[1m0s\u001b[0m 730us/step - accuracy: 1.0000 - loss: 0.0021 - mae: 0.0290 - mse: 0.0021 - val_accuracy: 1.0000 - val_loss: 0.0023 - val_mae: 0.0308 - val_mse: 0.0023\n",
      "Epoch 89/100\n",
      "\u001b[1m344/344\u001b[0m \u001b[32m━━━━━━━━━━━━━━━━━━━━\u001b[0m\u001b[37m\u001b[0m \u001b[1m0s\u001b[0m 727us/step - accuracy: 1.0000 - loss: 0.0020 - mae: 0.0286 - mse: 0.0020 - val_accuracy: 1.0000 - val_loss: 0.0022 - val_mae: 0.0299 - val_mse: 0.0022\n",
      "Epoch 90/100\n",
      "\u001b[1m344/344\u001b[0m \u001b[32m━━━━━━━━━━━━━━━━━━━━\u001b[0m\u001b[37m\u001b[0m \u001b[1m0s\u001b[0m 715us/step - accuracy: 1.0000 - loss: 0.0021 - mae: 0.0288 - mse: 0.0021 - val_accuracy: 1.0000 - val_loss: 0.0022 - val_mae: 0.0305 - val_mse: 0.0022\n",
      "Epoch 91/100\n",
      "\u001b[1m344/344\u001b[0m \u001b[32m━━━━━━━━━━━━━━━━━━━━\u001b[0m\u001b[37m\u001b[0m \u001b[1m0s\u001b[0m 735us/step - accuracy: 1.0000 - loss: 0.0020 - mae: 0.0281 - mse: 0.0020 - val_accuracy: 1.0000 - val_loss: 0.0023 - val_mae: 0.0316 - val_mse: 0.0023\n",
      "Epoch 92/100\n",
      "\u001b[1m344/344\u001b[0m \u001b[32m━━━━━━━━━━━━━━━━━━━━\u001b[0m\u001b[37m\u001b[0m \u001b[1m0s\u001b[0m 726us/step - accuracy: 1.0000 - loss: 0.0020 - mae: 0.0283 - mse: 0.0020 - val_accuracy: 1.0000 - val_loss: 0.0022 - val_mae: 0.0299 - val_mse: 0.0022\n",
      "Epoch 93/100\n",
      "\u001b[1m344/344\u001b[0m \u001b[32m━━━━━━━━━━━━━━━━━━━━\u001b[0m\u001b[37m\u001b[0m \u001b[1m0s\u001b[0m 732us/step - accuracy: 1.0000 - loss: 0.0019 - mae: 0.0278 - mse: 0.0019 - val_accuracy: 1.0000 - val_loss: 0.0021 - val_mae: 0.0295 - val_mse: 0.0021\n",
      "Epoch 94/100\n",
      "\u001b[1m344/344\u001b[0m \u001b[32m━━━━━━━━━━━━━━━━━━━━\u001b[0m\u001b[37m\u001b[0m \u001b[1m0s\u001b[0m 738us/step - accuracy: 1.0000 - loss: 0.0019 - mae: 0.0277 - mse: 0.0019 - val_accuracy: 1.0000 - val_loss: 0.0021 - val_mae: 0.0292 - val_mse: 0.0021\n",
      "Epoch 95/100\n",
      "\u001b[1m344/344\u001b[0m \u001b[32m━━━━━━━━━━━━━━━━━━━━\u001b[0m\u001b[37m\u001b[0m \u001b[1m0s\u001b[0m 734us/step - accuracy: 1.0000 - loss: 0.0019 - mae: 0.0276 - mse: 0.0019 - val_accuracy: 1.0000 - val_loss: 0.0020 - val_mae: 0.0288 - val_mse: 0.0020\n",
      "Epoch 96/100\n",
      "\u001b[1m344/344\u001b[0m \u001b[32m━━━━━━━━━━━━━━━━━━━━\u001b[0m\u001b[37m\u001b[0m \u001b[1m0s\u001b[0m 711us/step - accuracy: 1.0000 - loss: 0.0019 - mae: 0.0274 - mse: 0.0019 - val_accuracy: 1.0000 - val_loss: 0.0022 - val_mae: 0.0298 - val_mse: 0.0022\n",
      "Epoch 97/100\n",
      "\u001b[1m344/344\u001b[0m \u001b[32m━━━━━━━━━━━━━━━━━━━━\u001b[0m\u001b[37m\u001b[0m \u001b[1m0s\u001b[0m 701us/step - accuracy: 1.0000 - loss: 0.0018 - mae: 0.0271 - mse: 0.0018 - val_accuracy: 1.0000 - val_loss: 0.0020 - val_mae: 0.0290 - val_mse: 0.0020\n",
      "Epoch 98/100\n",
      "\u001b[1m344/344\u001b[0m \u001b[32m━━━━━━━━━━━━━━━━━━━━\u001b[0m\u001b[37m\u001b[0m \u001b[1m0s\u001b[0m 703us/step - accuracy: 1.0000 - loss: 0.0019 - mae: 0.0274 - mse: 0.0019 - val_accuracy: 1.0000 - val_loss: 0.0020 - val_mae: 0.0289 - val_mse: 0.0020\n",
      "Epoch 99/100\n",
      "\u001b[1m344/344\u001b[0m \u001b[32m━━━━━━━━━━━━━━━━━━━━\u001b[0m\u001b[37m\u001b[0m \u001b[1m0s\u001b[0m 720us/step - accuracy: 1.0000 - loss: 0.0018 - mae: 0.0271 - mse: 0.0018 - val_accuracy: 1.0000 - val_loss: 0.0022 - val_mae: 0.0301 - val_mse: 0.0022\n",
      "Epoch 100/100\n",
      "\u001b[1m344/344\u001b[0m \u001b[32m━━━━━━━━━━━━━━━━━━━━\u001b[0m\u001b[37m\u001b[0m \u001b[1m0s\u001b[0m 704us/step - accuracy: 1.0000 - loss: 0.0017 - mae: 0.0266 - mse: 0.0017 - val_accuracy: 1.0000 - val_loss: 0.0021 - val_mae: 0.0294 - val_mse: 0.0021\n"
     ]
    }
   ],
   "source": [
    "# Train the final model with best hyperparameters\n",
    "best_model = Sequential()\n",
    "\n",
    "best_model.add(Dense(best_params[\"num_units1\"], activation=\"relu\"))\n",
    "best_model.add(Dropout(best_params[\"dropout_rate\"]))\n",
    "best_model.add(Dense(best_params[\"num_units2\"], activation=\"relu\"))\n",
    "best_model.add(Dropout(best_params[\"dropout_rate\"]))\n",
    "best_model.add(Dense(2)) \n",
    "\n",
    "best_model.compile(optimizer=tf.keras.optimizers.Adam(learning_rate=best_params[\"learning_rate\"]),loss=\"mse\",metrics=[\"mae\", \"mse\", \"accuracy\"])\n",
    "\n",
    "# Train the model\n",
    "history = best_model.fit(x_train, y_train, validation_data=(x_val, y_val), epochs=best_params[\"epochs\"], batch_size=best_params[\"batch_size\"])"
   ]
  },
  {
   "cell_type": "code",
   "execution_count": 7,
   "id": "05d68e03-00a5-499e-84ec-e4ddb44f9c9b",
   "metadata": {},
   "outputs": [
    {
     "name": "stdout",
     "output_type": "stream",
     "text": [
      "XGBoost Test MSE: 0.001457474660128355\n",
      "Mean Absolute Error: 0.023206647485494614\n",
      "Root Mean Squared Error: 0.0381768864645659\n",
      "R-squared: 0.8596725463867188\n",
      "Explained Variance Score: 0.8601334373760366\n",
      "Mean Absolute Percentage Error: 1.2696006240869286\n"
     ]
    }
   ],
   "source": [
    "#trying some tl with this dataset and gpt says xgboost will work fine on this type of datasets\n",
    "\n",
    "from xgboost import XGBRegressor\n",
    "from sklearn.multioutput import MultiOutputRegressor\n",
    "\n",
    "# Multi-output regression with XGBoost\n",
    "xgb_model = MultiOutputRegressor(XGBRegressor(n_estimators=500, learning_rate=0.05, max_depth=6))\n",
    "history2 = xgb_model.fit(x_train, y_train)\n",
    "\n",
    "# some metrics\n",
    "y_test_pred_xgb = xgb_model.predict(x_test)\n",
    "test_mse_xgb = mean_squared_error(y_test, y_test_pred_xgb)\n",
    "print(\"XGBoost Test MSE:\", test_mse_xgb)\n",
    "mae1 = mean_absolute_error(y_test, y_test_pred_xgb)\n",
    "rmse1 = np.sqrt(mean_squared_error(y_test, y_test_pred_xgb))\n",
    "r21 = r2_score(y_test, y_test_pred_xgb)\n",
    "evs1 = explained_variance_score(y_test, y_test_pred_xgb)\n",
    "mape1 = np.mean(np.abs((y_test - y_test_pred_xgb) / y_test)) * 100\n",
    "\n",
    "# Print the results\n",
    "print(\"Mean Absolute Error:\", mae1)\n",
    "print(\"Root Mean Squared Error:\", rmse1)\n",
    "print(\"R-squared:\", r21)\n",
    "print(\"Explained Variance Score:\", evs1)\n",
    "print(\"Mean Absolute Percentage Error:\", mape1)"
   ]
  },
  {
   "cell_type": "code",
   "execution_count": 8,
   "id": "d0830669-fdf5-4bf1-93ce-9561df7fb2cf",
   "metadata": {},
   "outputs": [
    {
     "name": "stdout",
     "output_type": "stream",
     "text": [
      "\u001b[1m12/12\u001b[0m \u001b[32m━━━━━━━━━━━━━━━━━━━━\u001b[0m\u001b[37m\u001b[0m \u001b[1m0s\u001b[0m 737us/step\n",
      "Test MSE: 0.002185419900342822\n",
      "Mean Absolute Error: 0.029474347829818726\n",
      "Root Mean Squared Error: 0.046748474845098656\n",
      "R-squared: 0.639163613319397\n",
      "Explained Variance Score: 0.6571190221996324\n",
      "Mean Absolute Percentage Error: 61.4580276774755\n"
     ]
    },
    {
     "data": {
      "image/png": "[encoded data removed]",
      "text/plain": [
       "<Figure size 1400x600 with 2 Axes>"
      ]
     },
     "metadata": {},
     "output_type": "display_data"
    }
   ],
   "source": [
    "# Evaluating the optuna optimized NN on the test set\n",
    "y_test_pred = best_model.predict(x_test)\n",
    "test_mse = mean_squared_error(y_test, y_test_pred)\n",
    "print(\"Test MSE for optuna optimized NN:\", test_mse)\n",
    "\n",
    "mae = mean_absolute_error(y_test, y_test_pred)\n",
    "rmse = np.sqrt(mean_squared_error(y_test, y_test_pred))\n",
    "r2 = r2_score(y_test, y_test_pred)\n",
    "evs = explained_variance_score(y_test, y_test_pred)\n",
    "mape = np.mean(np.abs((y_test - y_test_pred / y_test))) * 100\n",
    "\n",
    "# Print the results\n",
    "print(\"Mean Absolute Error:\", mae)\n",
    "print(\"Root Mean Squared Error:\", rmse)\n",
    "print(\"R-squared:\", r2)\n",
    "print(\"Explained Variance Score:\", evs)\n",
    "print(\"Mean Absolute Percentage Error:\", mape)\n",
    "\n",
    "#some graph visualizations\n",
    "\n",
    "# Ensure you have the 'history' object from model training\n",
    "epochs = range(1, len(history.history['loss']) + 1)\n",
    "train_loss = history.history['loss']\n",
    "val_loss = history.history['val_loss']\n",
    "train_mae = history.history['mae']\n",
    "val_mae = history.history['val_mae']\n",
    "\n",
    "# Plot the training and validation loss\n",
    "plt.figure(figsize=(14, 6))\n",
    "\n",
    "# Plot 1: Training and Validation Loss\n",
    "plt.subplot(1, 2, 1)\n",
    "plt.plot(epochs, train_loss, label='Training Loss')\n",
    "plt.plot(epochs, val_loss, label='Validation Loss')\n",
    "plt.title('Training and Validation Loss')\n",
    "plt.xlabel('Epochs')\n",
    "plt.ylabel('Loss')\n",
    "plt.legend()\n",
    "\n",
    "# Plot 2: Training and Validation MAE (Mean Absolute Error)\n",
    "plt.subplot(1, 2, 2)\n",
    "plt.plot(epochs, train_mae, label='Training MAE')\n",
    "plt.plot(epochs, val_mae, label='Validation MAE')\n",
    "plt.title('Training and Validation MAE')\n",
    "plt.xlabel('Epochs')\n",
    "plt.ylabel('Mean Absolute Error')\n",
    "plt.legend()\n",
    "\n",
    "# Show the plots\n",
    "plt.tight_layout()\n",
    "plt.show()"
   ]
  },
  {
   "cell_type": "code",
   "execution_count": null,
   "id": "5594f15a-41bd-432a-98b6-f68744168a88",
   "metadata": {},
   "outputs": [],
   "source": []
  }
 ],
 "metadata": {
  "kernelspec": {
   "display_name": "MLKernal",
   "language": "python",
   "name": "python3"
  },
  "language_info": {
   "codemirror_mode": {
    "name": "ipython",
    "version": 3
   },
   "file_extension": ".py",
   "mimetype": "text/x-python",
   "name": "python",
   "nbconvert_exporter": "python",
   "pygments_lexer": "ipython3",
   "version": "3.12.6"
  }
 },
 "nbformat": 4,
 "nbformat_minor": 5
}
